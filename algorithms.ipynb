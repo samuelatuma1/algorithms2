{
 "metadata": {
  "language_info": {
   "codemirror_mode": {
    "name": "ipython",
    "version": 3
   },
   "file_extension": ".py",
   "mimetype": "text/x-python",
   "name": "python",
   "nbconvert_exporter": "python",
   "pygments_lexer": "ipython3",
   "version": "3.9.4"
  },
  "orig_nbformat": 2,
  "kernelspec": {
   "name": "python394jvsc74a57bd0ac59ebe37160ed0dfa835113d9b8498d9f09ceb179beaac4002f036b9467c963",
   "display_name": "Python 3.9.4 64-bit"
  },
  "metadata": {
   "interpreter": {
    "hash": "ac59ebe37160ed0dfa835113d9b8498d9f09ceb179beaac4002f036b9467c963"
   }
  }
 },
 "nbformat": 4,
 "nbformat_minor": 2,
 "cells": [
  {
   "cell_type": "code",
   "execution_count": 2,
   "metadata": {},
   "outputs": [],
   "source": [
    "# LINKED LIST\n",
    "class Node(object):\n",
    "    def __init__(self, val):\n",
    "        self.val = val\n",
    "        self.next = None\n",
    "\n",
    "    def set_val(self, val):\n",
    "        self.val = val\n",
    "    def get_val(self):\n",
    "        return self.val\n",
    "\n",
    "    def set_next(self, next):\n",
    "        self.next = next\n",
    "\n",
    "    def get_next(self):\n",
    "        return self.next \n",
    "\n",
    "\n",
    "class LinkedList(object):\n",
    "    def __init__(self, head=None):\n",
    "        self.head = head\n",
    "        self.count = 0\n",
    "\n",
    "    def insert(self, val):\n",
    "        new_node = Node(val)\n",
    "        new_node.set_next(self.head)\n",
    "        self.head = new_node\n",
    "        self.count += 1\n",
    "\n",
    "    def find(self, val):\n",
    "        node = self.head\n",
    "        count = 0\n",
    "        while node != None:\n",
    "            if node.get_val == val:\n",
    "                return f'{node} at index {count}'\n",
    "                count += 1\n",
    "            else:\n",
    "                node = node.get_next()\n",
    "                count += 1\n",
    "        return None\n",
    "\n",
    "    def deleteAt(self, index):\n",
    "        if self.count -1 < index:\n",
    "            return \n",
    "        idx = 0\n",
    "        node = self.head\n",
    "        if index == 0:\n",
    "            node = self.head\n",
    "        else:\n",
    "            while idx < index-1:\n",
    "                node = node.get_next()\n",
    "                idx += 1\n",
    "        \n",
    "        node.set_next(node.get_next().get_next())\n",
    "        count -= 1 \n",
    "\n",
    "    def print_list(self):\n",
    "        temporary_node = self.head\n",
    "\n",
    "        while temporary_node is not None:\n",
    "            print(temporary_node.get_val())\n",
    "            temporary_node = temporary_node.get_next()"
   ]
  },
  {
   "cell_type": "code",
   "execution_count": null,
   "metadata": {},
   "outputs": [],
   "source": []
  }
 ]
}
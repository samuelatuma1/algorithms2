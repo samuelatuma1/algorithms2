{
 "metadata": {
  "language_info": {
   "codemirror_mode": {
    "name": "ipython",
    "version": 3
   },
   "file_extension": ".py",
   "mimetype": "text/x-python",
   "name": "python",
   "nbconvert_exporter": "python",
   "pygments_lexer": "ipython3",
   "version": "3.9.4"
  },
  "orig_nbformat": 2,
  "kernelspec": {
   "name": "python394jvsc74a57bd0ac59ebe37160ed0dfa835113d9b8498d9f09ceb179beaac4002f036b9467c963",
   "display_name": "Python 3.9.4 64-bit"
  },
  "metadata": {
   "interpreter": {
    "hash": "ac59ebe37160ed0dfa835113d9b8498d9f09ceb179beaac4002f036b9467c963"
   }
  }
 },
 "nbformat": 4,
 "nbformat_minor": 2,
 "cells": [
  {
   "cell_type": "code",
   "execution_count": 59,
   "metadata": {},
   "outputs": [],
   "source": [
    "# LINKED LIST\n",
    "class Node(object):\n",
    "    def __init__(self, val):\n",
    "        self.val = val\n",
    "        self.next = None\n",
    "\n",
    "    def set_val(self, val):\n",
    "        self.val = val\n",
    "    def get_val(self):\n",
    "        return self.val\n",
    "\n",
    "    def set_next(self, next):\n",
    "        self.next = next\n",
    "\n",
    "    def get_next(self):\n",
    "        return self.next \n",
    "\n",
    "\n",
    "class LinkedList(object):\n",
    "    def __init__(self, head=None):\n",
    "        self.head = head\n",
    "        self.count = 0\n",
    "\n",
    "    def insert(self, val):\n",
    "        new_node = Node(val)\n",
    "        new_node.set_next(self.head)\n",
    "        self.head = new_node\n",
    "        self.count += 1\n",
    "\n",
    "    def count(self):\n",
    "        return self.count\n",
    "\n",
    "    def find(self, val):\n",
    "        node = self.head\n",
    "        count = 0\n",
    "        while node != None:\n",
    "            if node.get_val == val:\n",
    "                return f'{node} at index {count}'\n",
    "                count += 1\n",
    "            else:\n",
    "                node = node.get_next()\n",
    "                count += 1\n",
    "        return None\n",
    "\n",
    "    def deleteAt(self, index):\n",
    "        if self.count -1 < index:\n",
    "            return \n",
    "        idx = 0\n",
    "        node = self.head\n",
    "        if index == 0:\n",
    "            self.head = self.head.get_next()\n",
    "            self.count -= 1\n",
    "        else:\n",
    "            while idx < index-1:\n",
    "                node = node.get_next()\n",
    "                idx += 1\n",
    "        \n",
    "            node.set_next(node.get_next().get_next())\n",
    "            self.count -= 1 \n",
    "\n",
    "    def print_list(self):\n",
    "        temporary_node = self.head\n",
    "\n",
    "        while temporary_node is not None:\n",
    "            print(temporary_node.get_val())\n",
    "            temporary_node = temporary_node.get_next()"
   ]
  },
  {
   "cell_type": "code",
   "execution_count": 60,
   "metadata": {},
   "outputs": [],
   "source": [
    "linked_list = LinkedList()\n",
    "linked_list.insert(24)\n",
    "linked_list.insert('Hello world')\n",
    "linked_list.insert(104567)\n",
    "linked_list.insert(10456588)\n",
    "linked_list.insert(0)\n",
    "linked_list.insert({'name': 'Samuel', 'age': 'adult'})"
   ]
  },
  {
   "cell_type": "code",
   "execution_count": 61,
   "metadata": {},
   "outputs": [
    {
     "output_type": "stream",
     "name": "stdout",
     "text": [
      "{'name': 'Samuel', 'age': 'adult'}\n0\n10456588\n104567\nHello world\n24\n"
     ]
    }
   ],
   "source": [
    "linked_list.print_list()"
   ]
  },
  {
   "cell_type": "code",
   "execution_count": 62,
   "metadata": {},
   "outputs": [],
   "source": [
    "linked_list.deleteAt(0)"
   ]
  },
  {
   "cell_type": "code",
   "execution_count": 63,
   "metadata": {},
   "outputs": [
    {
     "output_type": "stream",
     "name": "stdout",
     "text": [
      "0\n",
      "10456588\n",
      "104567\n",
      "Hello world\n",
      "24\n"
     ]
    }
   ],
   "source": [
    "linked_list.print_list()"
   ]
  },
  {
   "cell_type": "code",
   "execution_count": 64,
   "metadata": {},
   "outputs": [
    {
     "output_type": "execute_result",
     "data": {
      "text/plain": [
       "5"
      ]
     },
     "metadata": {},
     "execution_count": 64
    }
   ],
   "source": [
    "linked_list.count"
   ]
  },
  {
   "cell_type": "code",
   "execution_count": 65,
   "metadata": {},
   "outputs": [],
   "source": [
    "# STACKS AND QUEUES"
   ]
  },
  {
   "cell_type": "code",
   "execution_count": 82,
   "metadata": {},
   "outputs": [],
   "source": [
    "class Node(object):\n",
    "    def __init__(self, val):\n",
    "        self.val = val\n",
    "        self.next= None\n",
    "    \n",
    "    def get_value(self):\n",
    "        return self.val\n",
    "    \n",
    "    def set_value(self, val):\n",
    "        self.val = val\n",
    "\n",
    "    def get_next(self):\n",
    "        return self.next\n",
    "\n",
    "    def set_next(self, next):\n",
    "        self.next = next\n",
    "\n",
    "class LinkedList(object):\n",
    "    def __init__(self, head=None):\n",
    "        self.head = head\n",
    "        self.count = 0\n",
    "\n",
    "    def insert(self, val):\n",
    "        new_node = Node(val)\n",
    "        new_node.set_next(self.head)\n",
    "        self.head = new_node\n",
    "        self.count += 1\n",
    "\n",
    "    def find(self, val):\n",
    "        node = self.head\n",
    "        while node is not None:\n",
    "            if node.get_value == val:\n",
    "                return node\n",
    "            else:\n",
    "                node = node.get_next\n",
    "\n",
    "        return None\n",
    "\n",
    "    def deleteAt(self, index):\n",
    "        if index > self.count - 1:\n",
    "            return\n",
    "        \n",
    "        else:\n",
    "            if index == 0:\n",
    "                self.head = self.head.get_next()\n",
    "                elf.count -= 1\n",
    "            else:\n",
    "                idx = 0\n",
    "                node = self.head\n",
    "                while idx < index - 1:\n",
    "                    node = node.get_next()\n",
    "                    idx += 1\n",
    "                \n",
    "                node.set_next(node.get_next().get_next())\n",
    "                self.count -= 1\n",
    "\n",
    "    def count(self):\n",
    "        return self.count()\n",
    "\n",
    "    def print_list(self):\n",
    "        node = self.head\n",
    "        while node is not None:\n",
    "            print(node.get_value())\n",
    "            node = node.get_next()\n",
    "\n",
    "\n",
    "    "
   ]
  },
  {
   "cell_type": "code",
   "execution_count": 89,
   "metadata": {},
   "outputs": [],
   "source": [
    "listVal = LinkedList()\n",
    "listVal.insert(0)\n",
    "listVal.insert(1)\n",
    "listVal.insert(2)"
   ]
  },
  {
   "cell_type": "code",
   "execution_count": 90,
   "metadata": {},
   "outputs": [
    {
     "output_type": "error",
     "ename": "UnboundLocalError",
     "evalue": "local variable 'count' referenced before assignment",
     "traceback": [
      "\u001b[1;31m---------------------------------------------------------------------------\u001b[0m",
      "\u001b[1;31mUnboundLocalError\u001b[0m                         Traceback (most recent call last)",
      "\u001b[1;32m<ipython-input-90-50ac67788b07>\u001b[0m in \u001b[0;36m<module>\u001b[1;34m\u001b[0m\n\u001b[1;32m----> 1\u001b[1;33m \u001b[0mlistVal\u001b[0m\u001b[1;33m.\u001b[0m\u001b[0mdeleteAt\u001b[0m\u001b[1;33m(\u001b[0m\u001b[1;36m0\u001b[0m\u001b[1;33m)\u001b[0m\u001b[1;33m\u001b[0m\u001b[1;33m\u001b[0m\u001b[0m\n\u001b[0m\u001b[0;32m      2\u001b[0m \u001b[0mlistVal\u001b[0m\u001b[1;33m.\u001b[0m\u001b[0mprint_list\u001b[0m\u001b[1;33m(\u001b[0m\u001b[1;33m)\u001b[0m\u001b[1;33m\u001b[0m\u001b[1;33m\u001b[0m\u001b[0m\n",
      "\u001b[1;32m<ipython-input-82-701ccc68adeb>\u001b[0m in \u001b[0;36mdeleteAt\u001b[1;34m(self, index)\u001b[0m\n\u001b[0;32m     44\u001b[0m             \u001b[1;32mif\u001b[0m \u001b[0mindex\u001b[0m \u001b[1;33m==\u001b[0m \u001b[1;36m0\u001b[0m\u001b[1;33m:\u001b[0m\u001b[1;33m\u001b[0m\u001b[1;33m\u001b[0m\u001b[0m\n\u001b[0;32m     45\u001b[0m                 \u001b[0mself\u001b[0m\u001b[1;33m.\u001b[0m\u001b[0mhead\u001b[0m \u001b[1;33m=\u001b[0m \u001b[0mself\u001b[0m\u001b[1;33m.\u001b[0m\u001b[0mhead\u001b[0m\u001b[1;33m.\u001b[0m\u001b[0mget_next\u001b[0m\u001b[1;33m(\u001b[0m\u001b[1;33m)\u001b[0m\u001b[1;33m\u001b[0m\u001b[1;33m\u001b[0m\u001b[0m\n\u001b[1;32m---> 46\u001b[1;33m                 \u001b[0mcount\u001b[0m \u001b[1;33m-=\u001b[0m \u001b[1;36m1\u001b[0m\u001b[1;33m\u001b[0m\u001b[1;33m\u001b[0m\u001b[0m\n\u001b[0m\u001b[0;32m     47\u001b[0m             \u001b[1;32melse\u001b[0m\u001b[1;33m:\u001b[0m\u001b[1;33m\u001b[0m\u001b[1;33m\u001b[0m\u001b[0m\n\u001b[0;32m     48\u001b[0m                 \u001b[0midx\u001b[0m \u001b[1;33m=\u001b[0m \u001b[1;36m0\u001b[0m\u001b[1;33m\u001b[0m\u001b[1;33m\u001b[0m\u001b[0m\n",
      "\u001b[1;31mUnboundLocalError\u001b[0m: local variable 'count' referenced before assignment"
     ]
    }
   ],
   "source": [
    "listVal.deleteAt(0)\n",
    "listVal.print_list()"
   ]
  },
  {
   "cell_type": "code",
   "execution_count": null,
   "metadata": {},
   "outputs": [],
   "source": []
  }
 ]
}
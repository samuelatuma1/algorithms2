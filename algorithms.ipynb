{
 "metadata": {
  "language_info": {
   "codemirror_mode": {
    "name": "ipython",
    "version": 3
   },
   "file_extension": ".py",
   "mimetype": "text/x-python",
   "name": "python",
   "nbconvert_exporter": "python",
   "pygments_lexer": "ipython3",
   "version": "3.9.4"
  },
  "orig_nbformat": 2,
  "kernelspec": {
   "name": "python394jvsc74a57bd0ac59ebe37160ed0dfa835113d9b8498d9f09ceb179beaac4002f036b9467c963",
   "display_name": "Python 3.9.4 64-bit"
  },
  "metadata": {
   "interpreter": {
    "hash": "ac59ebe37160ed0dfa835113d9b8498d9f09ceb179beaac4002f036b9467c963"
   }
  }
 },
 "nbformat": 4,
 "nbformat_minor": 2,
 "cells": [
  {
   "cell_type": "code",
   "execution_count": 59,
   "metadata": {},
   "outputs": [],
   "source": [
    "# LINKED LIST\n",
    "class Node(object):\n",
    "    def __init__(self, val):\n",
    "        self.val = val\n",
    "        self.next = None\n",
    "\n",
    "    def set_val(self, val):\n",
    "        self.val = val\n",
    "    def get_val(self):\n",
    "        return self.val\n",
    "\n",
    "    def set_next(self, next):\n",
    "        self.next = next\n",
    "\n",
    "    def get_next(self):\n",
    "        return self.next \n",
    "\n",
    "\n",
    "class LinkedList(object):\n",
    "    def __init__(self, head=None):\n",
    "        self.head = head\n",
    "        self.count = 0\n",
    "\n",
    "    def insert(self, val):\n",
    "        new_node = Node(val)\n",
    "        new_node.set_next(self.head)\n",
    "        self.head = new_node\n",
    "        self.count += 1\n",
    "\n",
    "    def count(self):\n",
    "        return self.count\n",
    "\n",
    "    def find(self, val):\n",
    "        node = self.head\n",
    "        count = 0\n",
    "        while node != None:\n",
    "            if node.get_val == val:\n",
    "                return f'{node} at index {count}'\n",
    "                count += 1\n",
    "            else:\n",
    "                node = node.get_next()\n",
    "                count += 1\n",
    "        return None\n",
    "\n",
    "    def deleteAt(self, index):\n",
    "        if self.count -1 < index:\n",
    "            return \n",
    "        idx = 0\n",
    "        node = self.head\n",
    "        if index == 0:\n",
    "            self.head = self.head.get_next()\n",
    "            self.count -= 1\n",
    "        else:\n",
    "            while idx < index-1:\n",
    "                node = node.get_next()\n",
    "                idx += 1\n",
    "        \n",
    "            node.set_next(node.get_next().get_next())\n",
    "            self.count -= 1 \n",
    "\n",
    "    def print_list(self):\n",
    "        temporary_node = self.head\n",
    "\n",
    "        while temporary_node is not None:\n",
    "            print(temporary_node.get_val())\n",
    "            temporary_node = temporary_node.get_next()"
   ]
  },
  {
   "cell_type": "code",
   "execution_count": 60,
   "metadata": {},
   "outputs": [],
   "source": [
    "linked_list = LinkedList()\n",
    "linked_list.insert(24)\n",
    "linked_list.insert('Hello world')\n",
    "linked_list.insert(104567)\n",
    "linked_list.insert(10456588)\n",
    "linked_list.insert(0)\n",
    "linked_list.insert({'name': 'Samuel', 'age': 'adult'})"
   ]
  },
  {
   "cell_type": "code",
   "execution_count": 61,
   "metadata": {},
   "outputs": [
    {
     "output_type": "stream",
     "name": "stdout",
     "text": [
      "{'name': 'Samuel', 'age': 'adult'}\n0\n10456588\n104567\nHello world\n24\n"
     ]
    }
   ],
   "source": [
    "linked_list.print_list()"
   ]
  },
  {
   "cell_type": "code",
   "execution_count": 62,
   "metadata": {},
   "outputs": [],
   "source": [
    "linked_list.deleteAt(0)"
   ]
  },
  {
   "cell_type": "code",
   "execution_count": 63,
   "metadata": {},
   "outputs": [
    {
     "output_type": "stream",
     "name": "stdout",
     "text": [
      "0\n",
      "10456588\n",
      "104567\n",
      "Hello world\n",
      "24\n"
     ]
    }
   ],
   "source": [
    "linked_list.print_list()"
   ]
  },
  {
   "cell_type": "code",
   "execution_count": 64,
   "metadata": {},
   "outputs": [
    {
     "output_type": "execute_result",
     "data": {
      "text/plain": [
       "5"
      ]
     },
     "metadata": {},
     "execution_count": 64
    }
   ],
   "source": [
    "linked_list.count"
   ]
  },
  {
   "cell_type": "code",
   "execution_count": 65,
   "metadata": {},
   "outputs": [],
   "source": []
  },
  {
   "cell_type": "code",
   "execution_count": 94,
   "metadata": {},
   "outputs": [],
   "source": [
    "class Node(object):\n",
    "    def __init__(self, val):\n",
    "        self.val = val\n",
    "        self.next= None\n",
    "    \n",
    "    def get_value(self):\n",
    "        return self.val\n",
    "    \n",
    "    def set_value(self, val):\n",
    "        self.val = val\n",
    "\n",
    "    def get_next(self):\n",
    "        return self.next\n",
    "\n",
    "    def set_next(self, next):\n",
    "        self.next = next\n",
    "\n",
    "class LinkedList(object):\n",
    "    def __init__(self, head=None):\n",
    "        self.head = head\n",
    "        self.count = 0\n",
    "\n",
    "    def insert(self, val):\n",
    "        new_node = Node(val)\n",
    "        new_node.set_next(self.head)\n",
    "        self.head = new_node\n",
    "        self.count += 1\n",
    "\n",
    "    def find(self, val):\n",
    "        node = self.head\n",
    "        while node is not None:\n",
    "            if node.get_value == val:\n",
    "                return node\n",
    "            else:\n",
    "                node = node.get_next\n",
    "\n",
    "        return None\n",
    "\n",
    "    def deleteAt(self, index):\n",
    "        if index > self.count - 1:\n",
    "            return\n",
    "        \n",
    "        else:\n",
    "            if index == 0:\n",
    "                self.head = self.head.get_next()\n",
    "                self.count -= 1\n",
    "            else:\n",
    "                idx = 0\n",
    "                node = self.head\n",
    "                while idx < index - 1:\n",
    "                    node = node.get_next()\n",
    "                    idx += 1\n",
    "                \n",
    "                node.set_next(node.get_next().get_next())\n",
    "                self.count -= 1\n",
    "\n",
    "    def count(self):\n",
    "        return self.count()\n",
    "\n",
    "    def print_list(self):\n",
    "        node = self.head\n",
    "        while node is not None:\n",
    "            print(node.get_value())\n",
    "            node = node.get_next()\n",
    "\n",
    "\n",
    "    "
   ]
  },
  {
   "cell_type": "code",
   "execution_count": 95,
   "metadata": {},
   "outputs": [],
   "source": [
    "listVal = LinkedList()\n",
    "listVal.insert(0)\n",
    "listVal.insert(1)\n",
    "listVal.insert(2)"
   ]
  },
  {
   "cell_type": "code",
   "execution_count": 96,
   "metadata": {},
   "outputs": [
    {
     "output_type": "stream",
     "name": "stdout",
     "text": [
      "1\n0\n"
     ]
    }
   ],
   "source": [
    "listVal.deleteAt(0)\n",
    "listVal.print_list()"
   ]
  },
  {
   "source": [
    "## STACKS AND QUEUES"
   ],
   "cell_type": "markdown",
   "metadata": {}
  },
  {
   "source": [
    "### STACKS\n",
    "#### STACKS HAVE A FIRST IN LAST OUT STRUCTURE"
   ],
   "cell_type": "markdown",
   "metadata": {}
  },
  {
   "cell_type": "code",
   "execution_count": 7,
   "metadata": {},
   "outputs": [],
   "source": [
    "stack = []\n",
    "stack.append(1)\n",
    "stack.append(2)\n",
    "stack.append(5)\n",
    "\n"
   ]
  },
  {
   "cell_type": "code",
   "execution_count": 8,
   "metadata": {},
   "outputs": [
    {
     "output_type": "stream",
     "name": "stdout",
     "text": [
      "5 removed from stack leaving [1, 2]\n"
     ]
    }
   ],
   "source": [
    "print(stack.pop(), 'removed from stack', 'leaving', stack)"
   ]
  },
  {
   "source": [
    "### QUEUES\n",
    "#### QUEUES \n",
    "#### FIRST IN FIRST OUT"
   ],
   "cell_type": "markdown",
   "metadata": {}
  },
  {
   "cell_type": "code",
   "execution_count": 17,
   "metadata": {},
   "outputs": [],
   "source": [
    "from collections import deque\n",
    "queue = deque()\n",
    "queue.append(4)\n",
    "queue.append(5)\n",
    "queue.append(6)\n",
    "queue.append(7)"
   ]
  },
  {
   "cell_type": "code",
   "execution_count": 18,
   "metadata": {},
   "outputs": [
    {
     "output_type": "stream",
     "name": "stdout",
     "text": [
      "first in 4 left deque([5, 6, 7])\n"
     ]
    }
   ],
   "source": [
    "\n",
    "print('first in', queue.popleft(), 'left', queue)"
   ]
  },
  {
   "cell_type": "code",
   "execution_count": 28,
   "metadata": {},
   "outputs": [],
   "source": [
    "class stack(list):\n",
    "    def __init__(self, array=[]):\n",
    "        \n",
    "        self.count = 0\n",
    "\n",
    "    def insert(self, data):\n",
    "        super().append(data)\n",
    "        self.count += 1\n",
    "\n",
    "    def unstack(self):\n",
    "        self.count -= 1\n",
    "        return f'{super().pop()} removed. now {self}'\n",
    "    def count(self):\n",
    "        return self.count\n",
    "    "
   ]
  },
  {
   "cell_type": "code",
   "execution_count": 34,
   "metadata": {},
   "outputs": [
    {
     "output_type": "execute_result",
     "data": {
      "text/plain": [
       "4"
      ]
     },
     "metadata": {},
     "execution_count": 34
    }
   ],
   "source": [
    "array = stack()\n",
    "array.insert('ello')\n",
    "array.insert('elloy')\n",
    "array.insert('elloya')\n",
    "array.insert('elloyam')\n",
    "array.count"
   ]
  },
  {
   "cell_type": "code",
   "execution_count": 32,
   "metadata": {},
   "outputs": [
    {
     "output_type": "execute_result",
     "data": {
      "text/plain": [
       "\"elloyam removed. now ['ello', 'elloy', 'elloya']\""
      ]
     },
     "metadata": {},
     "execution_count": 32
    }
   ],
   "source": [
    "array.unstack()"
   ]
  },
  {
   "cell_type": "code",
   "execution_count": 33,
   "metadata": {},
   "outputs": [
    {
     "output_type": "execute_result",
     "data": {
      "text/plain": [
       "4"
      ]
     },
     "metadata": {},
     "execution_count": 33
    }
   ],
   "source": []
  },
  {
   "cell_type": "code",
   "execution_count": null,
   "metadata": {},
   "outputs": [],
   "source": []
  }
 ]
}